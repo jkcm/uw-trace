{
 "cells": [
  {
   "cell_type": "code",
   "execution_count": 2,
   "metadata": {},
   "outputs": [
    {
     "name": "stdout",
     "output_type": "stream",
     "text": [
      "boogers\n"
     ]
    }
   ],
   "source": []
  },
  {
   "cell_type": "code",
   "execution_count": 7,
   "metadata": {},
   "outputs": [],
   "source": []
  },
  {
   "cell_type": "code",
   "execution_count": 8,
   "metadata": {},
   "outputs": [
    {
     "data": {
      "text/plain": [
       "<xarray.Dataset>\n",
       "Dimensions:    (latitude: 94, level: 9, longitude: 67, time: 248)\n",
       "Coordinates:\n",
       "  * longitude  (longitude) float32 -35.0 -34.25 -33.5 -32.75 ... 13.0 13.75 14.5\n",
       "  * level      (level) int32 500 600 700 800 850 900 925 950 1000\n",
       "  * latitude   (latitude) float32 9.75 9.0 8.25 7.5 ... -58.5 -59.25 -60.0\n",
       "  * time       (time) datetime64[ns] 2017-08-01 ... 2017-08-31T21:00:00\n",
       "Data variables:\n",
       "    co         (time, level, latitude, longitude) float32 dask.array<chunksize=(120, 9, 94, 67), meta=np.ndarray>\n",
       "    aermr04    (time, level, latitude, longitude) float32 dask.array<chunksize=(120, 9, 94, 67), meta=np.ndarray>\n",
       "    aermr05    (time, level, latitude, longitude) float32 dask.array<chunksize=(120, 9, 94, 67), meta=np.ndarray>\n",
       "    aermr06    (time, level, latitude, longitude) float32 dask.array<chunksize=(120, 9, 94, 67), meta=np.ndarray>\n",
       "    aermr09    (time, level, latitude, longitude) float32 dask.array<chunksize=(120, 9, 94, 67), meta=np.ndarray>\n",
       "    aermr07    (time, level, latitude, longitude) float32 dask.array<chunksize=(120, 9, 94, 67), meta=np.ndarray>\n",
       "    aermr10    (time, level, latitude, longitude) float32 dask.array<chunksize=(120, 9, 94, 67), meta=np.ndarray>\n",
       "    aermr08    (time, level, latitude, longitude) float32 dask.array<chunksize=(120, 9, 94, 67), meta=np.ndarray>\n",
       "    go3        (time, level, latitude, longitude) float32 dask.array<chunksize=(120, 9, 94, 67), meta=np.ndarray>\n",
       "    aermr01    (time, level, latitude, longitude) float32 dask.array<chunksize=(120, 9, 94, 67), meta=np.ndarray>\n",
       "    aermr02    (time, level, latitude, longitude) float32 dask.array<chunksize=(120, 9, 94, 67), meta=np.ndarray>\n",
       "    aermr03    (time, level, latitude, longitude) float32 dask.array<chunksize=(120, 9, 94, 67), meta=np.ndarray>\n",
       "    q          (time, level, latitude, longitude) float32 dask.array<chunksize=(120, 9, 94, 67), meta=np.ndarray>\n",
       "    aermr11    (time, level, latitude, longitude) float32 dask.array<chunksize=(120, 9, 94, 67), meta=np.ndarray>\n",
       "    t          (time, level, latitude, longitude) float32 dask.array<chunksize=(120, 9, 94, 67), meta=np.ndarray>\n",
       "    u          (time, level, latitude, longitude) float32 dask.array<chunksize=(120, 9, 94, 67), meta=np.ndarray>\n",
       "    v          (time, level, latitude, longitude) float32 dask.array<chunksize=(120, 9, 94, 67), meta=np.ndarray>\n",
       "    msl        (time, latitude, longitude) float32 dask.array<chunksize=(120, 94, 67), meta=np.ndarray>\n",
       "    z          (time, latitude, longitude) float32 dask.array<chunksize=(120, 94, 67), meta=np.ndarray>\n",
       "Attributes:\n",
       "    Conventions:  CF-1.6\n",
       "    history:      2020-12-09 05:48:39 GMT by grib_to_netcdf-2.16.0: /opt/ecmw..."
      ]
     },
     "execution_count": 8,
     "metadata": {},
     "output_type": "execute_result"
    }
   ],
   "source": [
    "CAMS_data"
   ]
  },
  {
   "cell_type": "code",
   "execution_count": null,
   "metadata": {},
   "outputs": [],
   "source": []
  }
 ],
 "metadata": {
  "kernelspec": {
   "display_name": "classified-cset",
   "language": "python",
   "name": "classified-cset"
  },
  "language_info": {
   "codemirror_mode": {
    "name": "ipython",
    "version": 3
   },
   "file_extension": ".py",
   "mimetype": "text/x-python",
   "name": "python",
   "nbconvert_exporter": "python",
   "pygments_lexer": "ipython3",
   "version": "3.7.9"
  }
 },
 "nbformat": 4,
 "nbformat_minor": 4
}
